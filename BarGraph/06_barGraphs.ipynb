{
 "cells": [
  {
   "attachments": {},
   "cell_type": "markdown",
   "metadata": {},
   "source": [
    "# Voltage Levels\n",
    "\n",
    "### Small code to understand the levels of theHorizontal, vertical and output stage of the CCD\n",
    "### Its necessary to include the path of a voltage.sh file in lta-daemon folder"
   ]
  },
  {
   "cell_type": "code",
   "execution_count": 1,
   "metadata": {},
   "outputs": [],
   "source": [
    "import matplotlib.pyplot as plt\n",
    "\n",
    "#https://matplotlib.org/stable/gallery/lines_bars_and_markers/hat_graph.html#sphx-glr-gallery-lines-bars-and-markers-hat-graph-py\n",
    "#https://matplotlib.org/stable/api/_as_gen/matplotlib.axes.Axes.annotate.html#matplotlib.axes.Axes.annotate\n",
    "\n",
    "def outputStageTiming(vFile='/home/oem/datosFits/MicrochipTest_Marzo/datos/voltage_skp_lta_v2_microchip.sh'):\n",
    "    voltageDict={}\n",
    "    swingDict={}\n",
    "    with open(vFile, 'r') as VoltageFile:\n",
    "        varlist=[]\n",
    "        for line in VoltageFile:\n",
    "            #print(line, end='\\r')\n",
    "            if '='in line:\n",
    "                varlist.append(float(line.split('=')[1]))\n",
    "            if len(varlist)==2:\n",
    "                voltageDict[line.split('=')[0][0]]=varlist\n",
    "                varlist=[]\n",
    "    vr=-7\n",
    "    voltageDict['r']=[vr,vr-0.1] #voltaje del nodo de lectura, esta en la seccion del Bias como vr (aumento .01 solo para el plot)\n",
    "    print(str(voltageDict))\n",
    "\n",
    "    cell_text = []\n",
    "    fig, ax = plt.subplots()\n",
    "    \n",
    "\n",
    "    for key in voltageDict:\n",
    "        x=0\n",
    "        if key.startswith('v') or key.startswith('t') or key.startswith('h') or key.startswith('s') or key.startswith('o') or key.startswith('d') or key.startswith('r'):\n",
    "            \n",
    "            #   'key' : [high=0, low=1]\n",
    "            #high states\n",
    "            x+=1\n",
    "            if voltageDict[key][0]>0:   \n",
    "                ax.annotate(voltageDict[key][0],(key, float(voltageDict[key][0]+0.05)))\n",
    "                ax.bar(key,voltageDict[key][0],color='black',label=key)\n",
    "                if voltageDict[key][1]>0:\n",
    "                    ax.bar(key,voltageDict[key][1], color='white',label=key)\n",
    "                else:\n",
    "                    ax.bar(key,voltageDict[key][1], color='black',label=key)          \n",
    "            elif voltageDict[key][1]<0:\n",
    "                ax.annotate(voltageDict[key][0],(key, float(voltageDict[key][0]+0.05)))\n",
    "                ax.bar(key,voltageDict[key][1],color='black',label=key)\n",
    "                if voltageDict[key][0]<0:\n",
    "                    ax.bar(key,voltageDict[key][0], color='white',label=key)\n",
    "                else:\n",
    "                    ax.bar(key,voltageDict[key][1], color='black',label=key)\n",
    "            #Lowstates\n",
    "            # if voltageDict[key][1]>0:\n",
    "            #     ax.bar(key,voltageDict[key][0],color='black',label=key)\n",
    "            #     ax.bar(key,voltageDict[key][1], color='white',label=key)\n",
    "                \n",
    "            # else:\n",
    "            #     ax.bar(key,voltageDict[key][1], color='black',label=key)\n",
    "            #     ax.bar(key,voltageDict[key][0],color='green',label=key)\n",
    "            if key != 'r':\n",
    "                ax.annotate(voltageDict[key][1],(key, float(voltageDict[key][1]-.5))) "
   ]
  },
  {
   "attachments": {},
   "cell_type": "markdown",
   "metadata": {},
   "source": [
    "Block diagram of CCD device\n",
    "\n",
    "![diagramas](block_timingCCD_Diagram.png)\n"
   ]
  },
  {
   "cell_type": "code",
   "execution_count": 2,
   "metadata": {},
   "outputs": [
    {
     "name": "stdout",
     "output_type": "stream",
     "text": [
      "{'v': [-3.5, -6.0], 't': [-4.0, -6.5], 'h': [-4.5, -7.0], 's': [-5.0, -10.0], 'o': [-5.5, -8.0], 'r': [-7, -7.1], 'd': [-1.0, -10.0]}\n"
     ]
    },
    {
     "data": {
      "image/png": "[encoded data removed]",
      "text/plain": [
       "<Figure size 640x480 with 1 Axes>"
      ]
     },
     "metadata": {},
     "output_type": "display_data"
    }
   ],
   "source": [
    "outputStageTiming()"
   ]
  },
  {
   "cell_type": "code",
   "execution_count": null,
   "metadata": {},
   "outputs": [],
   "source": []
  }
 ],
 "metadata": {
  "kernelspec": {
   "display_name": "Python 3.9.7 ('base')",
   "language": "python",
   "name": "python3"
  },
  "language_info": {
   "codemirror_mode": {
    "name": "ipython",
    "version": 3
   },
   "file_extension": ".py",
   "mimetype": "text/x-python",
   "name": "python",
   "nbconvert_exporter": "python",
   "pygments_lexer": "ipython3",
   "version": "3.10.6"
  },
  "vscode": {
   "interpreter": {
    "hash": "ad9e000ace8b4c39afbdcf83b61f0f239008d468236d6baabfb987e10afb94b8"
   }
  }
 },
 "nbformat": 4,
 "nbformat_minor": 4
}
